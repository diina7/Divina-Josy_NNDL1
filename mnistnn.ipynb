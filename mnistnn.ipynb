{
  "nbformat": 4,
  "nbformat_minor": 0,
  "metadata": {
    "colab": {
      "name": "minstnn.ipynb",
      "provenance": [],
      "collapsed_sections": []
    },
    "kernelspec": {
      "name": "python3",
      "display_name": "Python 3"
    },
    "language_info": {
      "name": "python"
    }
  },
  "cells": [
    {
      "cell_type": "markdown",
      "source": [
        "CST 395 - Neural Networks and Deep Learning - Assignment 1\n",
        "\n",
        "    Submitted by: Divina Josy\n",
        "    S5 CSE\n",
        "    Roll no. 28\n",
        "    TVE19CS028"
      ],
      "metadata": {
        "id": "MgKVzUbGzQ9W"
      }
    },
    {
      "cell_type": "markdown",
      "source": [
        "## Import Libraries\n",
        "\n",
        "We load the necessary libraries from  the end-to-end open source Machine Learning framework, Tensorflow"
      ],
      "metadata": {
        "id": "5PyUObpCz8XW"
      }
    },
    {
      "cell_type": "code",
      "execution_count": 40,
      "metadata": {
        "id": "4CKUHGMuSypq"
      },
      "outputs": [],
      "source": [
        "import numpy as np\n",
        "import matplotlib.pyplot as plt\n",
        "from keras.layers import Dense, Flatten\n",
        "from keras.models import Sequential\n",
        "from tensorflow.keras.utils import to_categorical\n",
        "from keras.datasets import mnist\n",
        "from tensorflow.keras.optimizers import Adam"
      ]
    },
    {
      "cell_type": "markdown",
      "source": [
        "Load MNIST handwritten digit data as well"
      ],
      "metadata": {
        "id": "VrlwcpS90IwH"
      }
    },
    {
      "cell_type": "code",
      "source": [
        "# Load MNIST handwritten digit data\n",
        "(X_train, y_train), (X_test, y_test) = mnist.load_data()"
      ],
      "metadata": {
        "id": "I4AxD_ENS3nN"
      },
      "execution_count": 41,
      "outputs": []
    },
    {
      "cell_type": "markdown",
      "source": [
        "## Display Dataset\n",
        "\n",
        "We show some images from the dataset"
      ],
      "metadata": {
        "id": "OJioJpIq0tiG"
      }
    },
    {
      "cell_type": "code",
      "source": [
        "fig, axes = plt.subplots(ncols=5, sharex=False,\n",
        "\t\t\t sharey=True, figsize=(10, 4))\n",
        "for i in range(5):\n",
        "\taxes[i].set_title(y_train[i])\n",
        "\taxes[i].imshow(X_train[i], cmap='gray')\n",
        "\taxes[i].get_xaxis().set_visible(False)\n",
        "\taxes[i].get_yaxis().set_visible(False)\n",
        "plt.show()"
      ],
      "metadata": {
        "colab": {
          "base_uri": "https://localhost:8080/",
          "height": 147
        },
        "id": "ZYbkp3pUS-5Z",
        "outputId": "ea6101a7-6f87-4a8f-e823-2881bd060eb8"
      },
      "execution_count": 42,
      "outputs": [
        {
          "output_type": "display_data",
          "data": {
            "image/png": "[encoded data removed]",
            "text/plain": [
              "<Figure size 720x288 with 5 Axes>"
            ]
          },
          "metadata": {
            "needs_background": "light"
          }
        }
      ]
    },
    {
      "cell_type": "markdown",
      "source": [
        "## Reshape Dataset\n",
        "\n",
        "Convert y_train and y_test into one-hot format"
      ],
      "metadata": {
        "id": "AV0hCEpo090U"
      }
    },
    {
      "cell_type": "code",
      "source": [
        "temp = []\n",
        "for i in range(len(y_train)):\n",
        "    temp.append(to_categorical(y_train[i], num_classes=10))\n",
        "    \n",
        "y_train = np.array(temp)"
      ],
      "metadata": {
        "id": "uLkioyc6TJyx"
      },
      "execution_count": 43,
      "outputs": []
    },
    {
      "cell_type": "code",
      "source": [
        "temp = []\n",
        "for i in range(len(y_test)):\n",
        "    temp.append(to_categorical(y_test[i], num_classes=10))\n",
        "\n",
        "y_test = np.array(temp)"
      ],
      "metadata": {
        "id": "46Xro1IiTRLI"
      },
      "execution_count": 44,
      "outputs": []
    },
    {
      "cell_type": "markdown",
      "source": [
        "## Define a function to plot the Accuracy VS Epoch graphs"
      ],
      "metadata": {
        "id": "yO69HtuR1WHe"
      }
    },
    {
      "cell_type": "code",
      "source": [
        "def plot(history):\n",
        "  plt.plot(history.history['acc'])\n",
        "  plt.plot(history.history['val_acc'])\n",
        "  plt.title('model accuracy')\n",
        "  plt.ylabel('accuracy')\n",
        "  plt.xlabel('epoch')\n",
        "  plt.legend(['train', 'test'], loc='upper left')\n",
        "  plt.show()"
      ],
      "metadata": {
        "id": "35Zz8GiMwjd9"
      },
      "execution_count": 45,
      "outputs": []
    },
    {
      "cell_type": "markdown",
      "source": [
        "## Create the Neural Network Models\n",
        "\n",
        "### Model 1\n",
        "\n",
        " Create simple Neural Network model 1"
      ],
      "metadata": {
        "id": "bRpPMZbA1lkr"
      }
    },
    {
      "cell_type": "code",
      "source": [
        "model1 = Sequential()\n",
        "model1.add(Flatten(input_shape=(28,28)))\n",
        "model1.add(Dense(128, activation='relu'))\n",
        "model1.add(Dense(10, activation='softmax'))\n",
        "model1.summary()\n",
        "\n",
        "model1.compile(loss='categorical_crossentropy', \n",
        "\t      optimizer='adam',\n",
        "\t      metrics=['acc'])"
      ],
      "metadata": {
        "colab": {
          "base_uri": "https://localhost:8080/"
        },
        "id": "A0X9SFeETWX7",
        "outputId": "58afc3e1-3b9b-4390-8965-6757e1a0d719"
      },
      "execution_count": 46,
      "outputs": [
        {
          "output_type": "stream",
          "name": "stdout",
          "text": [
            "Model: \"sequential_1\"\n",
            "_________________________________________________________________\n",
            " Layer (type)                Output Shape              Param #   \n",
            "=================================================================\n",
            " flatten_1 (Flatten)         (None, 784)               0         \n",
            "                                                                 \n",
            " dense_2 (Dense)             (None, 128)               100480    \n",
            "                                                                 \n",
            " dense_3 (Dense)             (None, 10)                1290      \n",
            "                                                                 \n",
            "=================================================================\n",
            "Total params: 101,770\n",
            "Trainable params: 101,770\n",
            "Non-trainable params: 0\n",
            "_________________________________________________________________\n"
          ]
        }
      ]
    },
    {
      "cell_type": "markdown",
      "source": [
        "Train the Neural Network model 1"
      ],
      "metadata": {
        "id": "ut1htaBR2MSz"
      }
    },
    {
      "cell_type": "code",
      "source": [
        "history = model1.fit(X_train, y_train, epochs=10, batch_size=32, validation_data=(X_test,y_test), verbose=1)"
      ],
      "metadata": {
        "colab": {
          "base_uri": "https://localhost:8080/"
        },
        "id": "uefPc8YVTZh1",
        "outputId": "453874fb-0e05-4895-f0a7-e701d45c7f6e"
      },
      "execution_count": 47,
      "outputs": [
        {
          "output_type": "stream",
          "name": "stdout",
          "text": [
            "Epoch 1/10\n",
            "1875/1875 [==============================] - 6s 3ms/step - loss: 2.6147 - acc: 0.8590 - val_loss: 0.5987 - val_acc: 0.8768\n",
            "Epoch 2/10\n",
            "1875/1875 [==============================] - 5s 3ms/step - loss: 0.4153 - acc: 0.9068 - val_loss: 0.4717 - val_acc: 0.9024\n",
            "Epoch 3/10\n",
            "1875/1875 [==============================] - 5s 3ms/step - loss: 0.3048 - acc: 0.9245 - val_loss: 0.3655 - val_acc: 0.9183\n",
            "Epoch 4/10\n",
            "1875/1875 [==============================] - 5s 3ms/step - loss: 0.2605 - acc: 0.9347 - val_loss: 0.2784 - val_acc: 0.9432\n",
            "Epoch 5/10\n",
            "1875/1875 [==============================] - 5s 3ms/step - loss: 0.2344 - acc: 0.9418 - val_loss: 0.3513 - val_acc: 0.9271\n",
            "Epoch 6/10\n",
            "1875/1875 [==============================] - 5s 3ms/step - loss: 0.2210 - acc: 0.9452 - val_loss: 0.3145 - val_acc: 0.9374\n",
            "Epoch 7/10\n",
            "1875/1875 [==============================] - 5s 3ms/step - loss: 0.2053 - acc: 0.9492 - val_loss: 0.2851 - val_acc: 0.9480\n",
            "Epoch 8/10\n",
            "1875/1875 [==============================] - 5s 2ms/step - loss: 0.2020 - acc: 0.9506 - val_loss: 0.2814 - val_acc: 0.9483\n",
            "Epoch 9/10\n",
            "1875/1875 [==============================] - 5s 3ms/step - loss: 0.2012 - acc: 0.9516 - val_loss: 0.3035 - val_acc: 0.9414\n",
            "Epoch 10/10\n",
            "1875/1875 [==============================] - 5s 3ms/step - loss: 0.1821 - acc: 0.9545 - val_loss: 0.2942 - val_acc: 0.9493\n"
          ]
        }
      ]
    },
    {
      "cell_type": "markdown",
      "source": [
        "Making predictions using our trained model"
      ],
      "metadata": {
        "id": "ukrPJZL-2QhC"
      }
    },
    {
      "cell_type": "code",
      "source": [
        "predictions = model1.predict(X_test)\n",
        "predictions = np.argmax(predictions, axis=1)"
      ],
      "metadata": {
        "id": "8ushf2DoTdZn"
      },
      "execution_count": 48,
      "outputs": []
    },
    {
      "cell_type": "markdown",
      "source": [
        "Display some predictions on test data"
      ],
      "metadata": {
        "id": "lXpWxIm-2UFg"
      }
    },
    {
      "cell_type": "code",
      "source": [
        "fig, axes = plt.subplots(ncols=10, sharex=False,\n",
        "\t\t\t sharey=True, figsize=(20, 4))\n",
        "for i in range(10):\n",
        "\taxes[i].set_title(predictions[i])\n",
        "\taxes[i].imshow(X_test[i], cmap='gray')\n",
        "\taxes[i].get_xaxis().set_visible(False)\n",
        "\taxes[i].get_yaxis().set_visible(False)\n",
        "plt.show()"
      ],
      "metadata": {
        "colab": {
          "base_uri": "https://localhost:8080/",
          "height": 145
        },
        "id": "NcVIUYacTg6F",
        "outputId": "ff5e8e4a-312f-4e85-836a-7ffad5d13623"
      },
      "execution_count": 49,
      "outputs": [
        {
          "output_type": "display_data",
          "data": {
            "image/png": "[encoded data removed]",
            "text/plain": [
              "<Figure size 1440x288 with 10 Axes>"
            ]
          },
          "metadata": {
            "needs_background": "light"
          }
        }
      ]
    },
    {
      "cell_type": "markdown",
      "source": [
        "Plot accuracy vs epoch chart for Model 1"
      ],
      "metadata": {
        "id": "EdjNwPwQ2XoT"
      }
    },
    {
      "cell_type": "code",
      "source": [
        "plot(history)"
      ],
      "metadata": {
        "colab": {
          "base_uri": "https://localhost:8080/",
          "height": 295
        },
        "id": "SuSwIXvGspCa",
        "outputId": "10cda503-8aed-4286-ff02-fca23f822f43"
      },
      "execution_count": 50,
      "outputs": [
        {
          "output_type": "display_data",
          "data": {
            "image/png": "[encoded data removed]",
            "text/plain": [
              "<Figure size 432x288 with 1 Axes>"
            ]
          },
          "metadata": {
            "needs_background": "light"
          }
        }
      ]
    },
    {
      "cell_type": "markdown",
      "source": [
        "### Model 2\n",
        "\n",
        " Create simple Neural Network model 2"
      ],
      "metadata": {
        "id": "-F_0LlkG287W"
      }
    },
    {
      "cell_type": "code",
      "source": [
        "model2 = Sequential()\n",
        "model2.add(Flatten(input_shape=(28,28)))\n",
        "model2.add(Dense(128, activation='relu'))\n",
        "model2.add(Dense(89, activation='relu'))\n",
        "model2.add(Dense(50, activation='relu'))\n",
        "model2.add(Dense(10, activation='softmax'))\n",
        "model2.summary()\n",
        "\n",
        "model2.compile(loss='categorical_crossentropy', \n",
        "\t      optimizer='adam',\n",
        "\t      metrics=['acc'])"
      ],
      "metadata": {
        "id": "hFXC7IMrsuo1",
        "colab": {
          "base_uri": "https://localhost:8080/"
        },
        "outputId": "411f58f5-7f2c-44a7-e447-2ef5155217bd"
      },
      "execution_count": 51,
      "outputs": [
        {
          "output_type": "stream",
          "name": "stdout",
          "text": [
            "Model: \"sequential_2\"\n",
            "_________________________________________________________________\n",
            " Layer (type)                Output Shape              Param #   \n",
            "=================================================================\n",
            " flatten_2 (Flatten)         (None, 784)               0         \n",
            "                                                                 \n",
            " dense_4 (Dense)             (None, 128)               100480    \n",
            "                                                                 \n",
            " dense_5 (Dense)             (None, 89)                11481     \n",
            "                                                                 \n",
            " dense_6 (Dense)             (None, 50)                4500      \n",
            "                                                                 \n",
            " dense_7 (Dense)             (None, 10)                510       \n",
            "                                                                 \n",
            "=================================================================\n",
            "Total params: 116,971\n",
            "Trainable params: 116,971\n",
            "Non-trainable params: 0\n",
            "_________________________________________________________________\n"
          ]
        }
      ]
    },
    {
      "cell_type": "markdown",
      "source": [
        "Train the Neural Network model 2"
      ],
      "metadata": {
        "id": "LlUZaL4c3CBf"
      }
    },
    {
      "cell_type": "code",
      "source": [
        "history = model2.fit(X_train, y_train, epochs=10, batch_size=32, validation_data=(X_test,y_test), verbose=1)"
      ],
      "metadata": {
        "colab": {
          "base_uri": "https://localhost:8080/"
        },
        "id": "FvDUJodexeY3",
        "outputId": "bf716e3f-60dc-4d71-e65d-dcc0db603a73"
      },
      "execution_count": 52,
      "outputs": [
        {
          "output_type": "stream",
          "name": "stdout",
          "text": [
            "Epoch 1/10\n",
            "1875/1875 [==============================] - 6s 3ms/step - loss: 0.9103 - acc: 0.8701 - val_loss: 0.2766 - val_acc: 0.9232\n",
            "Epoch 2/10\n",
            "1875/1875 [==============================] - 6s 3ms/step - loss: 0.2196 - acc: 0.9392 - val_loss: 0.1873 - val_acc: 0.9466\n",
            "Epoch 3/10\n",
            "1875/1875 [==============================] - 6s 3ms/step - loss: 0.1644 - acc: 0.9532 - val_loss: 0.1707 - val_acc: 0.9548\n",
            "Epoch 4/10\n",
            "1875/1875 [==============================] - 6s 3ms/step - loss: 0.1373 - acc: 0.9589 - val_loss: 0.1493 - val_acc: 0.9604\n",
            "Epoch 5/10\n",
            "1875/1875 [==============================] - 6s 3ms/step - loss: 0.1182 - acc: 0.9661 - val_loss: 0.1384 - val_acc: 0.9631\n",
            "Epoch 6/10\n",
            "1875/1875 [==============================] - 5s 3ms/step - loss: 0.1002 - acc: 0.9707 - val_loss: 0.1362 - val_acc: 0.9632\n",
            "Epoch 7/10\n",
            "1875/1875 [==============================] - 6s 3ms/step - loss: 0.0866 - acc: 0.9751 - val_loss: 0.1123 - val_acc: 0.9699\n",
            "Epoch 8/10\n",
            "1875/1875 [==============================] - 6s 3ms/step - loss: 0.0818 - acc: 0.9772 - val_loss: 0.1200 - val_acc: 0.9687\n",
            "Epoch 9/10\n",
            "1875/1875 [==============================] - 6s 3ms/step - loss: 0.0759 - acc: 0.9789 - val_loss: 0.1134 - val_acc: 0.9696\n",
            "Epoch 10/10\n",
            "1875/1875 [==============================] - 6s 3ms/step - loss: 0.0620 - acc: 0.9822 - val_loss: 0.1266 - val_acc: 0.9693\n"
          ]
        }
      ]
    },
    {
      "cell_type": "markdown",
      "source": [
        "Making predictions using our trained model 2"
      ],
      "metadata": {
        "id": "1GckWk7f3FfP"
      }
    },
    {
      "cell_type": "code",
      "source": [
        "predictions = model2.predict(X_test)\n",
        "predictions = np.argmax(predictions, axis=1)"
      ],
      "metadata": {
        "id": "9IEqpJjmxotf"
      },
      "execution_count": 53,
      "outputs": []
    },
    {
      "cell_type": "markdown",
      "source": [
        "Display some predictions on test data"
      ],
      "metadata": {
        "id": "Sk1VdShk3JkE"
      }
    },
    {
      "cell_type": "code",
      "source": [
        "fig, axes = plt.subplots(ncols=10, sharex=False,\n",
        "\t\t\t sharey=True, figsize=(20, 4))\n",
        "for i in range(10):\n",
        "\taxes[i].set_title(predictions[i])\n",
        "\taxes[i].imshow(X_test[i], cmap='gray')\n",
        "\taxes[i].get_xaxis().set_visible(False)\n",
        "\taxes[i].get_yaxis().set_visible(False)\n",
        "plt.show()"
      ],
      "metadata": {
        "colab": {
          "base_uri": "https://localhost:8080/",
          "height": 145
        },
        "id": "DeVGSLP_xvah",
        "outputId": "6abc58f9-1efc-42e5-f28c-522a18967823"
      },
      "execution_count": 54,
      "outputs": [
        {
          "output_type": "display_data",
          "data": {
            "image/png": "[encoded data removed]",
            "text/plain": [
              "<Figure size 1440x288 with 10 Axes>"
            ]
          },
          "metadata": {
            "needs_background": "light"
          }
        }
      ]
    },
    {
      "cell_type": "markdown",
      "source": [
        "Plot accuracy vs epoch chart for Model 1"
      ],
      "metadata": {
        "id": "0QKZLQ2w3MTq"
      }
    },
    {
      "cell_type": "code",
      "source": [
        "plot(history)"
      ],
      "metadata": {
        "colab": {
          "base_uri": "https://localhost:8080/",
          "height": 295
        },
        "id": "-XN-2t2nx9ka",
        "outputId": "753aa5d1-1d1b-4b85-ab97-5c1fade11331"
      },
      "execution_count": 55,
      "outputs": [
        {
          "output_type": "display_data",
          "data": {
            "image/png": "[encoded data removed]",
            "text/plain": [
              "<Figure size 432x288 with 1 Axes>"
            ]
          },
          "metadata": {
            "needs_background": "light"
          }
        }
      ]
    }
  ]
}